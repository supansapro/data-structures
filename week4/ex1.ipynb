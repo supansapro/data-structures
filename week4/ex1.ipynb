{
 "cells": [
  {
   "cell_type": "code",
   "execution_count": 3,
   "id": "2a9dc7b5",
   "metadata": {},
   "outputs": [
    {
     "name": "stdout",
     "output_type": "stream",
     "text": [
      "รหัสนักศึกษา :  123456789\n",
      "ชื่อ :  สุพรรษา ,นามสกุล : พรมฟ้า\n"
     ]
    }
   ],
   "source": [
    "a = {\n",
    "    \"std_id\": \"123456789\",\n",
    "    \"fname\" : \"สุพรรษา\",\n",
    "    \"lname\" : \"พรมฟ้า\",\n",
    "    \"phone\" : \"0800606719\",\n",
    "    \"gender\": \"women\",\n",
    "    \"major\" : \"computer science\",\n",
    "\n",
    "    }\n",
    "\n",
    "\n",
    "b = {\n",
    "    \"std_id\": \"1122334455\",\n",
    "    \"fname\" : \"ใจดี\",\n",
    "    \"lname\" : \"ดีใจ\",\n",
    "    \"phone\" : \"0888888877\",\n",
    "    \"gender\": \"men\",\n",
    "    \"major\" : \"computer science\",\n",
    "\n",
    "    } \n",
    "print(\"รหัสนักศึกษา : \",a['std_id'])\n",
    "print(\"ชื่อ : \", a ['fname'],  \",นามสกุล :\", a['lname'],)"
   ]
  },
  {
   "cell_type": "code",
   "execution_count": 6,
   "id": "7b495fba",
   "metadata": {},
   "outputs": [
    {
     "name": "stdout",
     "output_type": "stream",
     "text": [
      "รหัสนักศึกษา :  4\n",
      "ชื่อ :  2 ,นามสกุล : 7\n",
      "เบอร์โทร :  0 ,เพศ: 4\n",
      "สาขาวิชา :  2\n"
     ]
    }
   ],
   "source": [
    "input1 = input(\"std_id :\")\n",
    "input2 = input(\"fname  :\")\n",
    "input3 = input(\"lname  :\")\n",
    "input4 = input(\"phone :\")\n",
    "input5 = input(\"gender :\")\n",
    "input6 = input(\"major :\")\n",
    "\n",
    "\n",
    "a =[ {\n",
    "    \"std_id\": input1,\n",
    "    \"fname\" : input2,\n",
    "    \"lname\" : input3,\n",
    "    \"phone\" : input4,\n",
    "    \"gender\": input5,\n",
    "    \"major\" : input6,\n",
    "\n",
    "    }]\n",
    "\n",
    "\n",
    "print(\"รหัสนักศึกษา : \",a[0]['std_id'])\n",
    "print(\"ชื่อ : \", a[0] ['fname'],  \",นามสกุล :\", a[0]['lname'],)\n",
    "print(\"เบอร์โทร : \", a[0] ['phone'],  \",เพศ:\", a[0]['gender'],)\n",
    "print(\"สาขาวิชา : \", a[0]['major'])"
   ]
  },
  {
   "cell_type": "code",
   "execution_count": 16,
   "id": "49b1152b",
   "metadata": {},
   "outputs": [
    {
     "name": "stdout",
     "output_type": "stream",
     "text": [
      "---------MAIN PROGRAM---------\n",
      "------พิมพ์ a รับข้อมูลใหม่,พิมพ์ q ออกจากโปรแกรม--------\n",
      "---------MAIN PROGRAM---------\n",
      "------พิมพ์ a รับข้อมูลใหม่,พิมพ์ q ออกจากโปรแกรม--------\n"
     ]
    }
   ],
   "source": [
    "student = []\n",
    "loop = True\n",
    "i = 0\n",
    "while loop :\n",
    "\n",
    "    input1 = input(\"std_id :\")\n",
    "    input2 = input(\"fname  :\")\n",
    "    input3 = input(\"lname  :\")\n",
    "    input4 = input(\"phone :\")\n",
    "    input5 = input(\"gender :\")\n",
    "    input6 = input(\"major :\")\n",
    "    data = {\n",
    "    \"std_id\": input1,\n",
    "    \"fname\" : input2,\n",
    "    \"lname\" : input3,\n",
    "    \"phone\" : input4,\n",
    "    \"gender\": input5,\n",
    "    \"major\" : input6,\n",
    "    }\n",
    "    student.append(data)\n",
    "\n",
    "    print(\"---------MAIN PROGRAM---------\")\n",
    "    print(\"------พิมพ์ a รับข้อมูลใหม่,พิมพ์ q ออกจากโปรแกรม--------\")\n",
    "    inp_check = input (\"พิมพ์ 'a'  หรือ พิมพ์ 'q'  \")\n",
    "\n",
    "    if (inp_check == \"a\"):\n",
    "         loop = True\n",
    "\n",
    "    else:\n",
    "         loop = False\n",
    "\n",
    " \n",
    "\n",
    "\n"
   ]
  },
  {
   "cell_type": "code",
   "execution_count": 17,
   "id": "ae4380de",
   "metadata": {},
   "outputs": [
    {
     "name": "stdout",
     "output_type": "stream",
     "text": [
      "จำนวนข้อมูล 2\n",
      "{'std_id': '11', 'fname': '22', 'lname': '33', 'phone': '44', 'gender': '55', 'major': '66'}\n",
      "{'std_id': '77', 'fname': '88', 'lname': '99', 'phone': '55', 'gender': '66', 'major': '441'}\n"
     ]
    }
   ],
   "source": [
    "print(\"จำนวนข้อมูล\", len(student))\n",
    " \n",
    "i = 0 \n",
    "j = len(student) \n",
    "for i in range(j):\n",
    "    print(student[i])\n"
   ]
  }
 ],
 "metadata": {
  "kernelspec": {
   "display_name": "base",
   "language": "python",
   "name": "python3"
  },
  "language_info": {
   "codemirror_mode": {
    "name": "ipython",
    "version": 3
   },
   "file_extension": ".py",
   "mimetype": "text/x-python",
   "name": "python",
   "nbconvert_exporter": "python",
   "pygments_lexer": "ipython3",
   "version": "3.13.5"
  }
 },
 "nbformat": 4,
 "nbformat_minor": 5
}
