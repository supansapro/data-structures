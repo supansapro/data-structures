{
 "cells": [
  {
   "cell_type": "code",
   "execution_count": null,
   "id": "d004b9a8",
   "metadata": {},
   "outputs": [
    {
     "name": "stdout",
     "output_type": "stream",
     "text": [
      "5\n"
     ]
    }
   ],
   "source": [
    "#Find\n",
    "text = \"Sahm Sip Yung Jaeo\" \n",
    "position =text.find(\"Sip\")\n",
    "print(position)\n"
   ]
  },
  {
   "cell_type": "code",
   "execution_count": 6,
   "id": "34abc73d",
   "metadata": {},
   "outputs": [
    {
     "name": "stdout",
     "output_type": "stream",
     "text": [
      "['ฉันชอบกินไก่KFCซึ่งมีหลายเมนูเช่นไก้ป๊อปลาบและอื่นๆ']\n"
     ]
    }
   ],
   "source": [
    "text = \" ฉันชอบกินไก่KFCซึ่งมีหลายเมนูเช่นไก้ป๊อปลาบและอื่นๆ\"\n",
    "words = text.split()\n",
    "print(words)"
   ]
  },
  {
   "cell_type": "code",
   "execution_count": null,
   "id": "ede169f2",
   "metadata": {},
   "outputs": [
    {
     "name": "stdout",
     "output_type": "stream",
     "text": [
      "[' ฉันชอบกินไก่ KFC ', 'ซึ่งมีหลายเมนู เช่น ไก้ป๊อป', ' ลาบ  ไก่ปีก และอื่นๆ']\n"
     ]
    }
   ],
   "source": [
    "#Split\n",
    "text = \" ฉันชอบกินไก่ KFC ;ซึ่งมีหลายเมนู เช่น ไก้ป๊อป; ลาบ  ไก่ปีก และอื่นๆ\"\n",
    "words = text.split(\";\")\n",
    "print(words)"
   ]
  },
  {
   "cell_type": "code",
   "execution_count": null,
   "id": "0873926b",
   "metadata": {},
   "outputs": [
    {
     "name": "stdout",
     "output_type": "stream",
     "text": [
      "CATวิ่ง CATกระโดด CATวิ่งหนี CATโดนไล่ หมาวิ่งไล่CAT\n"
     ]
    }
   ],
   "source": [
    "# Replace function\n",
    "text = \"แมววิ่ง แมวกระโดด แมววิ่งหนี แมวโดนไล่ หมาวิ่งไล่แมว\"\n",
    "new_text = text.replace(\"แมว\",\"CAT\")\n",
    "print(new_text)"
   ]
  },
  {
   "cell_type": "code",
   "execution_count": 18,
   "id": "f874f428",
   "metadata": {},
   "outputs": [
    {
     "name": "stdout",
     "output_type": "stream",
     "text": [
      "8\n",
      "2\n"
     ]
    }
   ],
   "source": [
    "#Len Function\n",
    "text = \"แมว หมา \"\n",
    "print(len(text))\n",
    "\n",
    "words1 = [\"หมา\", \"แมว\", \"เสือ\", \"สิงโต\"]\n",
    "words2 = {\"หมา\", \"แมว\", \"เสือ\", \"สิงโต\"}\n",
    "words3 = {\"key\":\"date-type\", \"value\":1}\n",
    "print(len(words3))"
   ]
  },
  {
   "cell_type": "code",
   "execution_count": null,
   "id": "18cfd7bc",
   "metadata": {},
   "outputs": [
    {
     "name": "stdout",
     "output_type": "stream",
     "text": [
      "you never work alone\n"
     ]
    }
   ],
   "source": [
    "#Lower\n",
    "text = \"You Never Walk Alone\"\n",
    "print(text.lower())"
   ]
  },
  {
   "cell_type": "code",
   "execution_count": 20,
   "id": "a427e9ca",
   "metadata": {},
   "outputs": [
    {
     "name": "stdout",
     "output_type": "stream",
     "text": [
      "YOU NEVER WALK ALONE\n"
     ]
    }
   ],
   "source": [
    "#Upper\n",
    "text = \"You Never Walk Alone\"\n",
    "print(text.upper())"
   ]
  },
  {
   "cell_type": "code",
   "execution_count": 29,
   "id": "cbd095eb",
   "metadata": {},
   "outputs": [
    {
     "name": "stdout",
     "output_type": "stream",
     "text": [
      "เก่า =>  67\n",
      "ใหม่ =>  65\n"
     ]
    }
   ],
   "source": [
    "#Strip\n",
    "text = \" >>>> วันนี้วันดี ที่เราได้มาพบกัน วันนี้วันจันทร์ มีตลาดมืดนะ !!! \"\n",
    "new_text = text.strip()\n",
    "print(\"เก่า => \",len (text)) \n",
    "print(\"ใหม่ => \", len (new_text)) "
   ]
  },
  {
   "cell_type": "code",
   "execution_count": 30,
   "id": "67d014ef",
   "metadata": {},
   "outputs": [
    {
     "name": "stdout",
     "output_type": "stream",
     "text": [
      "นกกระจอกเทศ\n",
      "11\n",
      "นก\n",
      "1\n",
      "เเสดงตำเเหน่งของคำว่า'นก':[0]\n",
      "ตัวอักษรแรกของข้อความคือ: น\n",
      "ตัวอักษรสุดท้ายของข้อความคือ: ศ\n"
     ]
    }
   ],
   "source": [
    "#input\n",
    "text = input(\"Enter your text :\")\n",
    "print(text)\n",
    "print(len(text))\n",
    "cou = input(\"คำที่ต้องการค้นหาจากข้อมูลที่กอกด้านบน : \")\n",
    "print(cou)\n",
    "poli = text.count(cou)\n",
    "print(poli)\n",
    "\n",
    "positions = []\n",
    "index = text.find(cou)\n",
    "while index != -1 :\n",
    "    positions.append(index)\n",
    "    index = text.find(cou, index + 1)\n",
    "    \n",
    "print(f\"เเสดงตำเเหน่งของคำว่า'{cou}':{positions}\")\n",
    "    \n",
    "first_char = text[0].lower()\n",
    "last_char = text[-1].lower()\n",
    "\n",
    "words = text.split()\n",
    "\n",
    "start_words = [word for word in words if word.lower().startswith(first_char)]\n",
    "\n",
    "end_words = [word for word in words if word.lower().endswith(last_char)]\n",
    "\n",
    "\n",
    "print(\"ตัวอักษรแรกของข้อความคือ:\", first_char)\n",
    "\n",
    "print(\"ตัวอักษรสุดท้ายของข้อความคือ:\", last_char)"
   ]
  }
 ],
 "metadata": {
  "kernelspec": {
   "display_name": "base",
   "language": "python",
   "name": "python3"
  },
  "language_info": {
   "codemirror_mode": {
    "name": "ipython",
    "version": 3
   },
   "file_extension": ".py",
   "mimetype": "text/x-python",
   "name": "python",
   "nbconvert_exporter": "python",
   "pygments_lexer": "ipython3",
   "version": "3.13.5"
  }
 },
 "nbformat": 4,
 "nbformat_minor": 5
}
